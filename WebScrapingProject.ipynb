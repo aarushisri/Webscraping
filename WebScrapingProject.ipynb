{
  "nbformat": 5,
  "nbformat_minor": 0,
  "metadata": {
    "colab": {
      "name": "WebScrapingProject.ipynb",
      "provenance": []
    },
    "kernelspec": {
      "name": "python3",
      "display_name": "Python 3"
    },
    "language_info": {
      "name": "python"
    }
  },
  "cells": [
    {
      "cell_type": "markdown",
      "source": [
        "Importing required libraries"
      ],
      "metadata": {
        "id": "-TRqX5HPgEbr"
      }
    },
    {
      "cell_type": "code",
      "source": [
        "import requests\n",
        "from bs4 import BeautifulSoup"
      ],
      "metadata": {
        "id": "DSevm6-tgIf_"
      },
      "execution_count": null,
      "outputs": []
    },
    {
      "cell_type": "markdown",
      "source": [
        "Sample product to scrap reviews\n",
        "https://www.amazon.in/dp/B0856FPFY2/ref=LA21_Wash_10_5?pf_rd_r=ADFGHNY8RBVDBSHVVKCM&pf_rd_p=1ba122cc-f490-448d-ada3-bcac7c5e72b8&pf_rd_m=A1VBAL9TL5WCBF&pf_rd_s=merchandised-search-4&pf_rd_t=30901&pf_rd_i=1380369031&th=1"
      ],
      "metadata": {
        "id": "cjkkEOydgP5b"
      }
    },
    {
      "cell_type": "markdown",
      "source": [
        "Assigning the link to a variable\n"
      ],
      "metadata": {
        "id": "-IVmHux7gqLw"
      }
    },
    {
      "cell_type": "code",
      "source": [
        "url2= \"https://www.amazon.in/dp/B0856FPFY2/ref=LA21_Wash_10_5?pf_rd_r=ADFGHNY8RBVDBSHVVKCM&pf_rd_p=1ba122cc-f490-448d-ada3-bcac7c5e72b8&pf_rd_m=A1VBAL9TL5WCBF&pf_rd_s=merchandised-search-4&pf_rd_t=30901&pf_rd_i=1380369031&th=1\""
      ],
      "metadata": {
        "id": "acEDVqU4gwuY"
      },
      "execution_count": null,
      "outputs": []
    },
    {
      "cell_type": "markdown",
      "source": [
        "Headers are needed to identify the details of the browser"
      ],
      "metadata": {
        "id": "BThCIc4Gg0pM"
      }
    },
    {
      "cell_type": "code",
      "source": [
        "headers = { \"user-agent\" : \"Mozilla/5.0 (Windows NT 10.0; Win64; x64) AppleWebKit/537.36 (KHTML, like Gecko) Chrome/100.0.4896.127 Safari/537.36\"}"
      ],
      "metadata": {
        "id": "Xhs8LOdXg-AR"
      },
      "execution_count": null,
      "outputs": []
    },
    {
      "cell_type": "markdown",
      "source": [
        "Get request to obtain the data"
      ],
      "metadata": {
        "id": "-8aNyYI4hMXD"
      }
    },
    {
      "cell_type": "code",
      "source": [
        "page = requests.get(url2, headers=headers)"
      ],
      "metadata": {
        "id": "iDbJA9KwhQdv"
      },
      "execution_count": null,
      "outputs": []
    },
    {
      "cell_type": "markdown",
      "source": [
        "Checking the valid response"
      ],
      "metadata": {
        "id": "gd8JAQrkhXAR"
      }
    },
    {
      "cell_type": "code",
      "source": [
        "page"
      ],
      "metadata": {
        "colab": {
          "base_uri": "https://localhost:8080/"
        },
        "id": "8FGf44WQhaw3",
        "outputId": "b8a7acc7-1f5b-45bd-d89a-e2bd49313b38"
      },
      "execution_count": null,
      "outputs": [
        {
          "output_type": "execute_result",
          "data": {
            "text/plain": [
              "<Response [200]>"
            ]
          },
          "metadata": {},
          "execution_count": 5
        }
      ]
    },
    {
      "cell_type": "markdown",
      "source": [
        "Starting the parsing operation with bs4"
      ],
      "metadata": {
        "id": "Q8FB6tOQhcxW"
      }
    },
    {
      "cell_type": "code",
      "source": [
        "soup= BeautifulSoup(page.content , 'html.parser')"
      ],
      "metadata": {
        "id": "BdA8C-zJhhpN"
      },
      "execution_count": null,
      "outputs": []
    },
    {
      "cell_type": "markdown",
      "source": [
        "Printing all the details obtained from the result"
      ],
      "metadata": {
        "id": "V0C8CJdNhpUI"
      }
    },
    {
      "cell_type": "code",
      "source": [
        "#title of the page\n",
        "print(soup.title)\n",
        "\n",
        "#get attributes\n",
        "print(soup.title.name)\n",
        "\n",
        "#get values\n",
        "print(soup.title.string)\n",
        "\n",
        "#beginning navigation\n",
        "print(soup.title.parent.name)\n",
        "\n",
        "#getting specific values\n",
        "print(soup.p)"
      ],
      "metadata": {
        "colab": {
          "base_uri": "https://localhost:8080/"
        },
        "id": "5C24oOcQhuta",
        "outputId": "a11b2c03-691c-42e6-fa27-1ee3da15f031"
      },
      "execution_count": null,
      "outputs": [
        {
          "output_type": "stream",
          "name": "stdout",
          "text": [
            "<title>IFB 6 Kg 5 Star Fully-Automatic Front Loading Washing Machine (Diva Aqua BX, Black &amp; White, In-Built Heater) : Amazon.in: Home &amp; Kitchen</title>\n",
            "title\n",
            "IFB 6 Kg 5 Star Fully-Automatic Front Loading Washing Machine (Diva Aqua BX, Black & White, In-Built Heater) : Amazon.in: Home & Kitchen\n",
            "meta\n",
            "<p class=\"a-spacing-mini a-size-base-plus\">Upto ₹952.06 EMI interest savings on select Credit Cards</p>\n"
          ]
        }
      ]
    },
    {
      "cell_type": "markdown",
      "source": [
        "Printing out the specific profile name"
      ],
      "metadata": {
        "id": "9Ulg1I5siMKT"
      }
    },
    {
      "cell_type": "code",
      "source": [
        "title = soup.find('span', {\"class\" : \"a-profile-name\"})\n",
        "title.get_text()"
      ],
      "metadata": {
        "colab": {
          "base_uri": "https://localhost:8080/",
          "height": 35
        },
        "id": "VMlZBRu2iPu5",
        "outputId": "8a13c982-bdc9-48f3-d9b3-00c02096281b"
      },
      "execution_count": null,
      "outputs": [
        {
          "output_type": "execute_result",
          "data": {
            "text/plain": [
              "'Amazon Customer'"
            ],
            "application/vnd.google.colaboratory.intrinsic+json": {
              "type": "string"
            }
          },
          "metadata": {},
          "execution_count": 8
        }
      ]
    },
    {
      "cell_type": "markdown",
      "source": [
        "Importing the libraries for data analysis"
      ],
      "metadata": {
        "id": "zrdhGdn5ic4r"
      }
    },
    {
      "cell_type": "code",
      "source": [
        "import numpy as np\n",
        "import pandas as pd\n"
      ],
      "metadata": {
        "id": "O7jtxwz8ihIK"
      },
      "execution_count": null,
      "outputs": []
    },
    {
      "cell_type": "markdown",
      "source": [
        "Importing the dataset"
      ],
      "metadata": {
        "id": "HoCb2tuRinei"
      }
    },
    {
      "cell_type": "code",
      "source": [
        "data=pd.read_csv(\"/content/data.csv\")"
      ],
      "metadata": {
        "id": "ZY-ho1YzrAdz"
      },
      "execution_count": null,
      "outputs": []
    },
    {
      "cell_type": "markdown",
      "source": [
        "Printing first 5 rows of data"
      ],
      "metadata": {
        "id": "35hPv1AwiyrI"
      }
    },
    {
      "cell_type": "code",
      "source": [
        "data.head()"
      ],
      "metadata": {
        "colab": {
          "base_uri": "https://localhost:8080/",
          "height": 647
        },
        "id": "HWVaPvb7i26b",
        "outputId": "d088c343-1926-4d43-cfe8-5191b31a75f7"
      },
      "execution_count": null,
      "outputs": [
        {
          "output_type": "execute_result",
          "data": {
            "text/plain": [
              "                     id             dateAdded           dateUpdated  \\\n",
              "0  AVqVGZNvQMlgsOJE6eUY  2017-03-03T16:56:05Z  2018-10-25T16:36:31Z   \n",
              "1  AVqVGZNvQMlgsOJE6eUY  2017-03-03T16:56:05Z  2018-10-25T16:36:31Z   \n",
              "2  AVqVGZNvQMlgsOJE6eUY  2017-03-03T16:56:05Z  2018-10-25T16:36:31Z   \n",
              "3  AVqVGZNvQMlgsOJE6eUY  2017-03-03T16:56:05Z  2018-10-25T16:36:31Z   \n",
              "4  AVqVGZNvQMlgsOJE6eUY  2017-03-03T16:56:05Z  2018-10-25T16:36:31Z   \n",
              "\n",
              "                                                name       asins   brand  \\\n",
              "0  Amazon Kindle E-Reader 6\" Wifi (8th Generation...  B00ZV9PXP2  Amazon   \n",
              "1  Amazon Kindle E-Reader 6\" Wifi (8th Generation...  B00ZV9PXP2  Amazon   \n",
              "2  Amazon Kindle E-Reader 6\" Wifi (8th Generation...  B00ZV9PXP2  Amazon   \n",
              "3  Amazon Kindle E-Reader 6\" Wifi (8th Generation...  B00ZV9PXP2  Amazon   \n",
              "4  Amazon Kindle E-Reader 6\" Wifi (8th Generation...  B00ZV9PXP2  Amazon   \n",
              "\n",
              "                                          categories primaryCategories  \\\n",
              "0  Computers,Electronics Features,Tablets,Electro...       Electronics   \n",
              "1  Computers,Electronics Features,Tablets,Electro...       Electronics   \n",
              "2  Computers,Electronics Features,Tablets,Electro...       Electronics   \n",
              "3  Computers,Electronics Features,Tablets,Electro...       Electronics   \n",
              "4  Computers,Electronics Features,Tablets,Electro...       Electronics   \n",
              "\n",
              "                                           imageURLs  \\\n",
              "0  https://pisces.bbystatic.com/image2/BestBuy_US...   \n",
              "1  https://pisces.bbystatic.com/image2/BestBuy_US...   \n",
              "2  https://pisces.bbystatic.com/image2/BestBuy_US...   \n",
              "3  https://pisces.bbystatic.com/image2/BestBuy_US...   \n",
              "4  https://pisces.bbystatic.com/image2/BestBuy_US...   \n",
              "\n",
              "                                                keys  ...  \\\n",
              "0  allnewkindleereaderblack6glarefreetouchscreend...  ...   \n",
              "1  allnewkindleereaderblack6glarefreetouchscreend...  ...   \n",
              "2  allnewkindleereaderblack6glarefreetouchscreend...  ...   \n",
              "3  allnewkindleereaderblack6glarefreetouchscreend...  ...   \n",
              "4  allnewkindleereaderblack6glarefreetouchscreend...  ...   \n",
              "\n",
              "                                    reviews.dateSeen reviews.doRecommend  \\\n",
              "0  2018-05-27T00:00:00Z,2017-09-18T00:00:00Z,2017...               False   \n",
              "1  2018-05-27T00:00:00Z,2017-07-07T00:00:00Z,2017...                True   \n",
              "2                               2018-05-27T00:00:00Z                True   \n",
              "3                               2018-10-09T00:00:00Z                True   \n",
              "4                               2018-05-27T00:00:00Z                True   \n",
              "\n",
              "    reviews.id reviews.numHelpful reviews.rating  \\\n",
              "0          NaN                  0              3   \n",
              "1          NaN                  0              5   \n",
              "2          NaN                  0              4   \n",
              "3  177283626.0                  3              5   \n",
              "4          NaN                  0              5   \n",
              "\n",
              "                                  reviews.sourceURLs  \\\n",
              "0  http://reviews.bestbuy.com/3545/5442403/review...   \n",
              "1  http://reviews.bestbuy.com/3545/5442403/review...   \n",
              "2  https://reviews.bestbuy.com/3545/5442403/revie...   \n",
              "3  https://redsky.target.com/groot-domain-api/v1/...   \n",
              "4  https://reviews.bestbuy.com/3545/5442403/revie...   \n",
              "\n",
              "                                        reviews.text  \\\n",
              "0  I thought it would be as big as small paper bu...   \n",
              "1  This kindle is light and easy to use especiall...   \n",
              "2  Didnt know how much i'd use a kindle so went f...   \n",
              "3  I am 100 happy with my purchase. I caught it o...   \n",
              "4  Solid entry level Kindle. Great for kids. Gift...   \n",
              "\n",
              "                                  reviews.title  reviews.username  \\\n",
              "0                                     Too small            llyyue   \n",
              "1  Great light reader. Easy to use at the beach            Charmi   \n",
              "2                           Great for the price      johnnyjojojo   \n",
              "3                                   A Great Buy           Kdperry   \n",
              "4      Solid entry-level Kindle. Great for kids       Johnnyblack   \n",
              "\n",
              "                                          sourceURLs  \n",
              "0  https://www.newegg.com/Product/Product.aspx%25...  \n",
              "1  https://www.newegg.com/Product/Product.aspx%25...  \n",
              "2  https://www.newegg.com/Product/Product.aspx%25...  \n",
              "3  https://www.newegg.com/Product/Product.aspx%25...  \n",
              "4  https://www.newegg.com/Product/Product.aspx%25...  \n",
              "\n",
              "[5 rows x 24 columns]"
            ],
            "text/html": [
              "\n",
              "  <div id=\"df-c4bddd35-7848-48ab-860b-1ee9468a8cbd\">\n",
              "    <div class=\"colab-df-container\">\n",
              "      <div>\n",
              "<style scoped>\n",
              "    .dataframe tbody tr th:only-of-type {\n",
              "        vertical-align: middle;\n",
              "    }\n",
              "\n",
              "    .dataframe tbody tr th {\n",
              "        vertical-align: top;\n",
              "    }\n",
              "\n",
              "    .dataframe thead th {\n",
              "        text-align: right;\n",
              "    }\n",
              "</style>\n",
              "<table border=\"1\" class=\"dataframe\">\n",
              "  <thead>\n",
              "    <tr style=\"text-align: right;\">\n",
              "      <th></th>\n",
              "      <th>id</th>\n",
              "      <th>dateAdded</th>\n",
              "      <th>dateUpdated</th>\n",
              "      <th>name</th>\n",
              "      <th>asins</th>\n",
              "      <th>brand</th>\n",
              "      <th>categories</th>\n",
              "      <th>primaryCategories</th>\n",
              "      <th>imageURLs</th>\n",
              "      <th>keys</th>\n",
              "      <th>...</th>\n",
              "      <th>reviews.dateSeen</th>\n",
              "      <th>reviews.doRecommend</th>\n",
              "      <th>reviews.id</th>\n",
              "      <th>reviews.numHelpful</th>\n",
              "      <th>reviews.rating</th>\n",
              "      <th>reviews.sourceURLs</th>\n",
              "      <th>reviews.text</th>\n",
              "      <th>reviews.title</th>\n",
              "      <th>reviews.username</th>\n",
              "      <th>sourceURLs</th>\n",
              "    </tr>\n",
              "  </thead>\n",
              "  <tbody>\n",
              "    <tr>\n",
              "      <th>0</th>\n",
              "      <td>AVqVGZNvQMlgsOJE6eUY</td>\n",
              "      <td>2017-03-03T16:56:05Z</td>\n",
              "      <td>2018-10-25T16:36:31Z</td>\n",
              "      <td>Amazon Kindle E-Reader 6\" Wifi (8th Generation...</td>\n",
              "      <td>B00ZV9PXP2</td>\n",
              "      <td>Amazon</td>\n",
              "      <td>Computers,Electronics Features,Tablets,Electro...</td>\n",
              "      <td>Electronics</td>\n",
              "      <td>https://pisces.bbystatic.com/image2/BestBuy_US...</td>\n",
              "      <td>allnewkindleereaderblack6glarefreetouchscreend...</td>\n",
              "      <td>...</td>\n",
              "      <td>2018-05-27T00:00:00Z,2017-09-18T00:00:00Z,2017...</td>\n",
              "      <td>False</td>\n",
              "      <td>NaN</td>\n",
              "      <td>0</td>\n",
              "      <td>3</td>\n",
              "      <td>http://reviews.bestbuy.com/3545/5442403/review...</td>\n",
              "      <td>I thought it would be as big as small paper bu...</td>\n",
              "      <td>Too small</td>\n",
              "      <td>llyyue</td>\n",
              "      <td>https://www.newegg.com/Product/Product.aspx%25...</td>\n",
              "    </tr>\n",
              "    <tr>\n",
              "      <th>1</th>\n",
              "      <td>AVqVGZNvQMlgsOJE6eUY</td>\n",
              "      <td>2017-03-03T16:56:05Z</td>\n",
              "      <td>2018-10-25T16:36:31Z</td>\n",
              "      <td>Amazon Kindle E-Reader 6\" Wifi (8th Generation...</td>\n",
              "      <td>B00ZV9PXP2</td>\n",
              "      <td>Amazon</td>\n",
              "      <td>Computers,Electronics Features,Tablets,Electro...</td>\n",
              "      <td>Electronics</td>\n",
              "      <td>https://pisces.bbystatic.com/image2/BestBuy_US...</td>\n",
              "      <td>allnewkindleereaderblack6glarefreetouchscreend...</td>\n",
              "      <td>...</td>\n",
              "      <td>2018-05-27T00:00:00Z,2017-07-07T00:00:00Z,2017...</td>\n",
              "      <td>True</td>\n",
              "      <td>NaN</td>\n",
              "      <td>0</td>\n",
              "      <td>5</td>\n",
              "      <td>http://reviews.bestbuy.com/3545/5442403/review...</td>\n",
              "      <td>This kindle is light and easy to use especiall...</td>\n",
              "      <td>Great light reader. Easy to use at the beach</td>\n",
              "      <td>Charmi</td>\n",
              "      <td>https://www.newegg.com/Product/Product.aspx%25...</td>\n",
              "    </tr>\n",
              "    <tr>\n",
              "      <th>2</th>\n",
              "      <td>AVqVGZNvQMlgsOJE6eUY</td>\n",
              "      <td>2017-03-03T16:56:05Z</td>\n",
              "      <td>2018-10-25T16:36:31Z</td>\n",
              "      <td>Amazon Kindle E-Reader 6\" Wifi (8th Generation...</td>\n",
              "      <td>B00ZV9PXP2</td>\n",
              "      <td>Amazon</td>\n",
              "      <td>Computers,Electronics Features,Tablets,Electro...</td>\n",
              "      <td>Electronics</td>\n",
              "      <td>https://pisces.bbystatic.com/image2/BestBuy_US...</td>\n",
              "      <td>allnewkindleereaderblack6glarefreetouchscreend...</td>\n",
              "      <td>...</td>\n",
              "      <td>2018-05-27T00:00:00Z</td>\n",
              "      <td>True</td>\n",
              "      <td>NaN</td>\n",
              "      <td>0</td>\n",
              "      <td>4</td>\n",
              "      <td>https://reviews.bestbuy.com/3545/5442403/revie...</td>\n",
              "      <td>Didnt know how much i'd use a kindle so went f...</td>\n",
              "      <td>Great for the price</td>\n",
              "      <td>johnnyjojojo</td>\n",
              "      <td>https://www.newegg.com/Product/Product.aspx%25...</td>\n",
              "    </tr>\n",
              "    <tr>\n",
              "      <th>3</th>\n",
              "      <td>AVqVGZNvQMlgsOJE6eUY</td>\n",
              "      <td>2017-03-03T16:56:05Z</td>\n",
              "      <td>2018-10-25T16:36:31Z</td>\n",
              "      <td>Amazon Kindle E-Reader 6\" Wifi (8th Generation...</td>\n",
              "      <td>B00ZV9PXP2</td>\n",
              "      <td>Amazon</td>\n",
              "      <td>Computers,Electronics Features,Tablets,Electro...</td>\n",
              "      <td>Electronics</td>\n",
              "      <td>https://pisces.bbystatic.com/image2/BestBuy_US...</td>\n",
              "      <td>allnewkindleereaderblack6glarefreetouchscreend...</td>\n",
              "      <td>...</td>\n",
              "      <td>2018-10-09T00:00:00Z</td>\n",
              "      <td>True</td>\n",
              "      <td>177283626.0</td>\n",
              "      <td>3</td>\n",
              "      <td>5</td>\n",
              "      <td>https://redsky.target.com/groot-domain-api/v1/...</td>\n",
              "      <td>I am 100 happy with my purchase. I caught it o...</td>\n",
              "      <td>A Great Buy</td>\n",
              "      <td>Kdperry</td>\n",
              "      <td>https://www.newegg.com/Product/Product.aspx%25...</td>\n",
              "    </tr>\n",
              "    <tr>\n",
              "      <th>4</th>\n",
              "      <td>AVqVGZNvQMlgsOJE6eUY</td>\n",
              "      <td>2017-03-03T16:56:05Z</td>\n",
              "      <td>2018-10-25T16:36:31Z</td>\n",
              "      <td>Amazon Kindle E-Reader 6\" Wifi (8th Generation...</td>\n",
              "      <td>B00ZV9PXP2</td>\n",
              "      <td>Amazon</td>\n",
              "      <td>Computers,Electronics Features,Tablets,Electro...</td>\n",
              "      <td>Electronics</td>\n",
              "      <td>https://pisces.bbystatic.com/image2/BestBuy_US...</td>\n",
              "      <td>allnewkindleereaderblack6glarefreetouchscreend...</td>\n",
              "      <td>...</td>\n",
              "      <td>2018-05-27T00:00:00Z</td>\n",
              "      <td>True</td>\n",
              "      <td>NaN</td>\n",
              "      <td>0</td>\n",
              "      <td>5</td>\n",
              "      <td>https://reviews.bestbuy.com/3545/5442403/revie...</td>\n",
              "      <td>Solid entry level Kindle. Great for kids. Gift...</td>\n",
              "      <td>Solid entry-level Kindle. Great for kids</td>\n",
              "      <td>Johnnyblack</td>\n",
              "      <td>https://www.newegg.com/Product/Product.aspx%25...</td>\n",
              "    </tr>\n",
              "  </tbody>\n",
              "</table>\n",
              "<p>5 rows × 24 columns</p>\n",
              "</div>\n",
              "      <button class=\"colab-df-convert\" onclick=\"convertToInteractive('df-c4bddd35-7848-48ab-860b-1ee9468a8cbd')\"\n",
              "              title=\"Convert this dataframe to an interactive table.\"\n",
              "              style=\"display:none;\">\n",
              "        \n",
              "  <svg xmlns=\"http://www.w3.org/2000/svg\" height=\"24px\"viewBox=\"0 0 24 24\"\n",
              "       width=\"24px\">\n",
              "    <path d=\"M0 0h24v24H0V0z\" fill=\"none\"/>\n",
              "    <path d=\"M18.56 5.44l.94 2.06.94-2.06 2.06-.94-2.06-.94-.94-2.06-.94 2.06-2.06.94zm-11 1L8.5 8.5l.94-2.06 2.06-.94-2.06-.94L8.5 2.5l-.94 2.06-2.06.94zm10 10l.94 2.06.94-2.06 2.06-.94-2.06-.94-.94-2.06-.94 2.06-2.06.94z\"/><path d=\"M17.41 7.96l-1.37-1.37c-.4-.4-.92-.59-1.43-.59-.52 0-1.04.2-1.43.59L10.3 9.45l-7.72 7.72c-.78.78-.78 2.05 0 2.83L4 21.41c.39.39.9.59 1.41.59.51 0 1.02-.2 1.41-.59l7.78-7.78 2.81-2.81c.8-.78.8-2.07 0-2.86zM5.41 20L4 18.59l7.72-7.72 1.47 1.35L5.41 20z\"/>\n",
              "  </svg>\n",
              "      </button>\n",
              "      \n",
              "  <style>\n",
              "    .colab-df-container {\n",
              "      display:flex;\n",
              "      flex-wrap:wrap;\n",
              "      gap: 12px;\n",
              "    }\n",
              "\n",
              "    .colab-df-convert {\n",
              "      background-color: #E8F0FE;\n",
              "      border: none;\n",
              "      border-radius: 50%;\n",
              "      cursor: pointer;\n",
              "      display: none;\n",
              "      fill: #1967D2;\n",
              "      height: 32px;\n",
              "      padding: 0 0 0 0;\n",
              "      width: 32px;\n",
              "    }\n",
              "\n",
              "    .colab-df-convert:hover {\n",
              "      background-color: #E2EBFA;\n",
              "      box-shadow: 0px 1px 2px rgba(60, 64, 67, 0.3), 0px 1px 3px 1px rgba(60, 64, 67, 0.15);\n",
              "      fill: #174EA6;\n",
              "    }\n",
              "\n",
              "    [theme=dark] .colab-df-convert {\n",
              "      background-color: #3B4455;\n",
              "      fill: #D2E3FC;\n",
              "    }\n",
              "\n",
              "    [theme=dark] .colab-df-convert:hover {\n",
              "      background-color: #434B5C;\n",
              "      box-shadow: 0px 1px 3px 1px rgba(0, 0, 0, 0.15);\n",
              "      filter: drop-shadow(0px 1px 2px rgba(0, 0, 0, 0.3));\n",
              "      fill: #FFFFFF;\n",
              "    }\n",
              "  </style>\n",
              "\n",
              "      <script>\n",
              "        const buttonEl =\n",
              "          document.querySelector('#df-c4bddd35-7848-48ab-860b-1ee9468a8cbd button.colab-df-convert');\n",
              "        buttonEl.style.display =\n",
              "          google.colab.kernel.accessAllowed ? 'block' : 'none';\n",
              "\n",
              "        async function convertToInteractive(key) {\n",
              "          const element = document.querySelector('#df-c4bddd35-7848-48ab-860b-1ee9468a8cbd');\n",
              "          const dataTable =\n",
              "            await google.colab.kernel.invokeFunction('convertToInteractive',\n",
              "                                                     [key], {});\n",
              "          if (!dataTable) return;\n",
              "\n",
              "          const docLinkHtml = 'Like what you see? Visit the ' +\n",
              "            '<a target=\"_blank\" href=https://colab.research.google.com/notebooks/data_table.ipynb>data table notebook</a>'\n",
              "            + ' to learn more about interactive tables.';\n",
              "          element.innerHTML = '';\n",
              "          dataTable['output_type'] = 'display_data';\n",
              "          await google.colab.output.renderOutput(dataTable, element);\n",
              "          const docLink = document.createElement('div');\n",
              "          docLink.innerHTML = docLinkHtml;\n",
              "          element.appendChild(docLink);\n",
              "        }\n",
              "      </script>\n",
              "    </div>\n",
              "  </div>\n",
              "  "
            ]
          },
          "metadata": {},
          "execution_count": 28
        }
      ]
    },
    {
      "cell_type": "markdown",
      "source": [
        "Preprocessing the data :  checking for NaN values"
      ],
      "metadata": {
        "id": "oI0kcffIi4ec"
      }
    },
    {
      "cell_type": "code",
      "source": [
        "data.isna().any()"
      ],
      "metadata": {
        "colab": {
          "base_uri": "https://localhost:8080/"
        },
        "id": "-lZq2_phi_NA",
        "outputId": "e560b821-35d9-466f-f31c-f3998e8a00f6"
      },
      "execution_count": null,
      "outputs": [
        {
          "output_type": "execute_result",
          "data": {
            "text/plain": [
              "id                     False\n",
              "dateAdded              False\n",
              "dateUpdated            False\n",
              "name                   False\n",
              "asins                  False\n",
              "brand                  False\n",
              "categories             False\n",
              "primaryCategories      False\n",
              "imageURLs              False\n",
              "keys                   False\n",
              "manufacturer           False\n",
              "manufacturerNumber     False\n",
              "reviews.date           False\n",
              "reviews.dateAdded       True\n",
              "reviews.dateSeen       False\n",
              "reviews.doRecommend    False\n",
              "reviews.id              True\n",
              "reviews.numHelpful     False\n",
              "reviews.rating         False\n",
              "reviews.sourceURLs     False\n",
              "reviews.text           False\n",
              "reviews.title           True\n",
              "reviews.username       False\n",
              "sourceURLs             False\n",
              "dtype: bool"
            ]
          },
          "metadata": {},
          "execution_count": 29
        }
      ]
    },
    {
      "cell_type": "markdown",
      "source": [
        "Length of the data in terms of rows"
      ],
      "metadata": {
        "id": "gyvTTdCmjDQb"
      }
    },
    {
      "cell_type": "code",
      "source": [
        "len(data)"
      ],
      "metadata": {
        "colab": {
          "base_uri": "https://localhost:8080/"
        },
        "id": "kBSNVWytjIV8",
        "outputId": "8f6568ed-ac5a-4f76-f064-88184aa32ee0"
      },
      "execution_count": null,
      "outputs": [
        {
          "output_type": "execute_result",
          "data": {
            "text/plain": [
              "5000"
            ]
          },
          "metadata": {},
          "execution_count": 30
        }
      ]
    },
    {
      "cell_type": "markdown",
      "source": [
        "Statistical description of dataset"
      ],
      "metadata": {
        "id": "1ZhE8wNejKRU"
      }
    },
    {
      "cell_type": "code",
      "source": [
        "data.describe()"
      ],
      "metadata": {
        "colab": {
          "base_uri": "https://localhost:8080/",
          "height": 300
        },
        "id": "Cyzkf309jOKN",
        "outputId": "8f1ac06f-2b49-46b9-8177-5469ab9c7541"
      },
      "execution_count": null,
      "outputs": [
        {
          "output_type": "execute_result",
          "data": {
            "text/plain": [
              "         reviews.id  reviews.numHelpful  reviews.rating\n",
              "count  2.900000e+01         5000.000000     5000.000000\n",
              "mean   1.858740e+08            0.312400        4.596800\n",
              "std    2.084040e+07            3.111582        0.731804\n",
              "min    1.082112e+08            0.000000        1.000000\n",
              "25%    1.851185e+08            0.000000        4.000000\n",
              "50%    1.880757e+08            0.000000        5.000000\n",
              "75%    1.981949e+08            0.000000        5.000000\n",
              "max    2.027812e+08          105.000000        5.000000"
            ],
            "text/html": [
              "\n",
              "  <div id=\"df-5dce8cc9-1c68-478c-91f5-188f516396d3\">\n",
              "    <div class=\"colab-df-container\">\n",
              "      <div>\n",
              "<style scoped>\n",
              "    .dataframe tbody tr th:only-of-type {\n",
              "        vertical-align: middle;\n",
              "    }\n",
              "\n",
              "    .dataframe tbody tr th {\n",
              "        vertical-align: top;\n",
              "    }\n",
              "\n",
              "    .dataframe thead th {\n",
              "        text-align: right;\n",
              "    }\n",
              "</style>\n",
              "<table border=\"1\" class=\"dataframe\">\n",
              "  <thead>\n",
              "    <tr style=\"text-align: right;\">\n",
              "      <th></th>\n",
              "      <th>reviews.id</th>\n",
              "      <th>reviews.numHelpful</th>\n",
              "      <th>reviews.rating</th>\n",
              "    </tr>\n",
              "  </thead>\n",
              "  <tbody>\n",
              "    <tr>\n",
              "      <th>count</th>\n",
              "      <td>2.900000e+01</td>\n",
              "      <td>5000.000000</td>\n",
              "      <td>5000.000000</td>\n",
              "    </tr>\n",
              "    <tr>\n",
              "      <th>mean</th>\n",
              "      <td>1.858740e+08</td>\n",
              "      <td>0.312400</td>\n",
              "      <td>4.596800</td>\n",
              "    </tr>\n",
              "    <tr>\n",
              "      <th>std</th>\n",
              "      <td>2.084040e+07</td>\n",
              "      <td>3.111582</td>\n",
              "      <td>0.731804</td>\n",
              "    </tr>\n",
              "    <tr>\n",
              "      <th>min</th>\n",
              "      <td>1.082112e+08</td>\n",
              "      <td>0.000000</td>\n",
              "      <td>1.000000</td>\n",
              "    </tr>\n",
              "    <tr>\n",
              "      <th>25%</th>\n",
              "      <td>1.851185e+08</td>\n",
              "      <td>0.000000</td>\n",
              "      <td>4.000000</td>\n",
              "    </tr>\n",
              "    <tr>\n",
              "      <th>50%</th>\n",
              "      <td>1.880757e+08</td>\n",
              "      <td>0.000000</td>\n",
              "      <td>5.000000</td>\n",
              "    </tr>\n",
              "    <tr>\n",
              "      <th>75%</th>\n",
              "      <td>1.981949e+08</td>\n",
              "      <td>0.000000</td>\n",
              "      <td>5.000000</td>\n",
              "    </tr>\n",
              "    <tr>\n",
              "      <th>max</th>\n",
              "      <td>2.027812e+08</td>\n",
              "      <td>105.000000</td>\n",
              "      <td>5.000000</td>\n",
              "    </tr>\n",
              "  </tbody>\n",
              "</table>\n",
              "</div>\n",
              "      <button class=\"colab-df-convert\" onclick=\"convertToInteractive('df-5dce8cc9-1c68-478c-91f5-188f516396d3')\"\n",
              "              title=\"Convert this dataframe to an interactive table.\"\n",
              "              style=\"display:none;\">\n",
              "        \n",
              "  <svg xmlns=\"http://www.w3.org/2000/svg\" height=\"24px\"viewBox=\"0 0 24 24\"\n",
              "       width=\"24px\">\n",
              "    <path d=\"M0 0h24v24H0V0z\" fill=\"none\"/>\n",
              "    <path d=\"M18.56 5.44l.94 2.06.94-2.06 2.06-.94-2.06-.94-.94-2.06-.94 2.06-2.06.94zm-11 1L8.5 8.5l.94-2.06 2.06-.94-2.06-.94L8.5 2.5l-.94 2.06-2.06.94zm10 10l.94 2.06.94-2.06 2.06-.94-2.06-.94-.94-2.06-.94 2.06-2.06.94z\"/><path d=\"M17.41 7.96l-1.37-1.37c-.4-.4-.92-.59-1.43-.59-.52 0-1.04.2-1.43.59L10.3 9.45l-7.72 7.72c-.78.78-.78 2.05 0 2.83L4 21.41c.39.39.9.59 1.41.59.51 0 1.02-.2 1.41-.59l7.78-7.78 2.81-2.81c.8-.78.8-2.07 0-2.86zM5.41 20L4 18.59l7.72-7.72 1.47 1.35L5.41 20z\"/>\n",
              "  </svg>\n",
              "      </button>\n",
              "      \n",
              "  <style>\n",
              "    .colab-df-container {\n",
              "      display:flex;\n",
              "      flex-wrap:wrap;\n",
              "      gap: 12px;\n",
              "    }\n",
              "\n",
              "    .colab-df-convert {\n",
              "      background-color: #E8F0FE;\n",
              "      border: none;\n",
              "      border-radius: 50%;\n",
              "      cursor: pointer;\n",
              "      display: none;\n",
              "      fill: #1967D2;\n",
              "      height: 32px;\n",
              "      padding: 0 0 0 0;\n",
              "      width: 32px;\n",
              "    }\n",
              "\n",
              "    .colab-df-convert:hover {\n",
              "      background-color: #E2EBFA;\n",
              "      box-shadow: 0px 1px 2px rgba(60, 64, 67, 0.3), 0px 1px 3px 1px rgba(60, 64, 67, 0.15);\n",
              "      fill: #174EA6;\n",
              "    }\n",
              "\n",
              "    [theme=dark] .colab-df-convert {\n",
              "      background-color: #3B4455;\n",
              "      fill: #D2E3FC;\n",
              "    }\n",
              "\n",
              "    [theme=dark] .colab-df-convert:hover {\n",
              "      background-color: #434B5C;\n",
              "      box-shadow: 0px 1px 3px 1px rgba(0, 0, 0, 0.15);\n",
              "      filter: drop-shadow(0px 1px 2px rgba(0, 0, 0, 0.3));\n",
              "      fill: #FFFFFF;\n",
              "    }\n",
              "  </style>\n",
              "\n",
              "      <script>\n",
              "        const buttonEl =\n",
              "          document.querySelector('#df-5dce8cc9-1c68-478c-91f5-188f516396d3 button.colab-df-convert');\n",
              "        buttonEl.style.display =\n",
              "          google.colab.kernel.accessAllowed ? 'block' : 'none';\n",
              "\n",
              "        async function convertToInteractive(key) {\n",
              "          const element = document.querySelector('#df-5dce8cc9-1c68-478c-91f5-188f516396d3');\n",
              "          const dataTable =\n",
              "            await google.colab.kernel.invokeFunction('convertToInteractive',\n",
              "                                                     [key], {});\n",
              "          if (!dataTable) return;\n",
              "\n",
              "          const docLinkHtml = 'Like what you see? Visit the ' +\n",
              "            '<a target=\"_blank\" href=https://colab.research.google.com/notebooks/data_table.ipynb>data table notebook</a>'\n",
              "            + ' to learn more about interactive tables.';\n",
              "          element.innerHTML = '';\n",
              "          dataTable['output_type'] = 'display_data';\n",
              "          await google.colab.output.renderOutput(dataTable, element);\n",
              "          const docLink = document.createElement('div');\n",
              "          docLink.innerHTML = docLinkHtml;\n",
              "          element.appendChild(docLink);\n",
              "        }\n",
              "      </script>\n",
              "    </div>\n",
              "  </div>\n",
              "  "
            ]
          },
          "metadata": {},
          "execution_count": 31
        }
      ]
    },
    {
      "cell_type": "markdown",
      "source": [
        "Printing out all the column names"
      ],
      "metadata": {
        "id": "YwEKHfnhjRfX"
      }
    },
    {
      "cell_type": "code",
      "source": [
        "data.columns"
      ],
      "metadata": {
        "colab": {
          "base_uri": "https://localhost:8080/"
        },
        "id": "z4QewKcBjU3s",
        "outputId": "06420323-c414-4594-c23d-52cb8e6479a7"
      },
      "execution_count": null,
      "outputs": [
        {
          "output_type": "execute_result",
          "data": {
            "text/plain": [
              "Index(['id', 'dateAdded', 'dateUpdated', 'name', 'asins', 'brand',\n",
              "       'categories', 'primaryCategories', 'imageURLs', 'keys', 'manufacturer',\n",
              "       'manufacturerNumber', 'reviews.date', 'reviews.dateAdded',\n",
              "       'reviews.dateSeen', 'reviews.doRecommend', 'reviews.id',\n",
              "       'reviews.numHelpful', 'reviews.rating', 'reviews.sourceURLs',\n",
              "       'reviews.text', 'reviews.title', 'reviews.username', 'sourceURLs'],\n",
              "      dtype='object')"
            ]
          },
          "metadata": {},
          "execution_count": 32
        }
      ]
    },
    {
      "cell_type": "markdown",
      "source": [
        "Printing out the rows and column number"
      ],
      "metadata": {
        "id": "4P8RWZCHjXLs"
      }
    },
    {
      "cell_type": "code",
      "source": [
        "data.shape"
      ],
      "metadata": {
        "colab": {
          "base_uri": "https://localhost:8080/"
        },
        "id": "Fu3dK6Q6jbPM",
        "outputId": "e87d4e97-82ab-400c-dd10-d69764802b67"
      },
      "execution_count": null,
      "outputs": [
        {
          "output_type": "execute_result",
          "data": {
            "text/plain": [
              "(5000, 24)"
            ]
          },
          "metadata": {},
          "execution_count": 33
        }
      ]
    },
    {
      "cell_type": "markdown",
      "source": [
        "Data Visualization libraries"
      ],
      "metadata": {
        "id": "j1-2o6rrjeEI"
      }
    },
    {
      "cell_type": "code",
      "source": [
        "import seaborn as sns\n",
        "import matplotlib.pyplot as plt\n",
        "%matplotlib inline"
      ],
      "metadata": {
        "id": "pvQhiLzBjkPv"
      },
      "execution_count": null,
      "outputs": []
    },
    {
      "cell_type": "markdown",
      "source": [
        "Converting rating to numerical data type"
      ],
      "metadata": {
        "id": "xWYzvQg3yT6Q"
      }
    },
    {
      "cell_type": "code",
      "source": [
        "x=data['reviews.rating']\n",
        "y=pd.to_numeric(x)"
      ],
      "metadata": {
        "id": "lWZ-nLdTkAfO"
      },
      "execution_count": null,
      "outputs": []
    },
    {
      "cell_type": "markdown",
      "source": [
        "Plotting the distribution curve"
      ],
      "metadata": {
        "id": "iCio0olwkHKA"
      }
    },
    {
      "cell_type": "code",
      "source": [
        "plt.figure(figsize=(10,8))\n",
        "plt.title('Ratings Distribution')\n",
        "sns.distplot(x,color='red');"
      ],
      "metadata": {
        "colab": {
          "base_uri": "https://localhost:8080/",
          "height": 568
        },
        "id": "l9akFSnrkLQP",
        "outputId": "aba528d4-367b-4094-9797-e83630344b6e"
      },
      "execution_count": null,
      "outputs": [
        {
          "output_type": "stream",
          "name": "stderr",
          "text": [
            "/usr/local/lib/python3.7/dist-packages/seaborn/distributions.py:2619: FutureWarning: `distplot` is a deprecated function and will be removed in a future version. Please adapt your code to use either `displot` (a figure-level function with similar flexibility) or `histplot` (an axes-level function for histograms).\n",
            "  warnings.warn(msg, FutureWarning)\n"
          ]
        },
        {
          "output_type": "display_data",
          "data": {
            "text/plain": [
              "<Figure size 720x576 with 1 Axes>"
            ],
            "image/png": "[encoded data removed]"
          },
          "metadata": {
            "needs_background": "light"
          }
        }
      ]
    },
    {
      "cell_type": "markdown",
      "source": [
        "Printing out the datatype in Pandas"
      ],
      "metadata": {
        "id": "BCH2fRXOkft6"
      }
    },
    {
      "cell_type": "code",
      "source": [
        "type(x)"
      ],
      "metadata": {
        "colab": {
          "base_uri": "https://localhost:8080/"
        },
        "id": "-ceFCITKklRO",
        "outputId": "a657e3b6-dd34-455c-cf1f-39ae83f6e0c5"
      },
      "execution_count": null,
      "outputs": [
        {
          "output_type": "execute_result",
          "data": {
            "text/plain": [
              "pandas.core.series.Series"
            ]
          },
          "metadata": {},
          "execution_count": 40
        }
      ]
    }
  ]
}
